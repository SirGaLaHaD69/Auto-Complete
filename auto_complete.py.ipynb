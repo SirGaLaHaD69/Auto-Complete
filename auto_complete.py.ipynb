{
 "cells": [
  {
   "cell_type": "code",
   "execution_count": 1,
   "metadata": {},
   "outputs": [],
   "source": [
    "import numpy as np"
   ]
  },
  {
   "cell_type": "code",
   "execution_count": 74,
   "metadata": {},
   "outputs": [],
   "source": [
    "def load_text(filepath):\n",
    "    with open(filepath,'r', encoding='utf-8') as f:\n",
    "        return f.read().lower()\n"
   ]
  },
  {
   "cell_type": "markdown",
   "metadata": {},
   "source": [
    "### Data Preprocessing"
   ]
  },
  {
   "cell_type": "code",
   "execution_count": 75,
   "metadata": {},
   "outputs": [],
   "source": [
    "text = load_text('obama_speech.txt')\n",
    "text = text.replace(\".\",' .')\n",
    "list_text = text.split(\"\\n\")\n",
    "corpus=[]\n",
    "for txt in list_text:\n",
    "    corpus.extend(txt.split(\" \"))"
   ]
  },
  {
   "cell_type": "markdown",
   "metadata": {},
   "source": [
    "### Building the Markov Chain Model"
   ]
  },
  {
   "cell_type": "code",
   "execution_count": 76,
   "metadata": {},
   "outputs": [],
   "source": [
    "def generate_table(text, k = 2):\n",
    "    table = {}\n",
    "    \n",
    "    # Frequencies\n",
    "    for i in range(len(text) - k):\n",
    "        kx = (\" \").join(text[i : i+k ])\n",
    "        ky = text[i + k]\n",
    "        if table.get(kx) is None:\n",
    "            table[kx] = {}\n",
    "            table[kx][ky] = 1\n",
    "        else:\n",
    "            if table[kx].get(ky) is None:\n",
    "                table[kx][ky] = 1\n",
    "            else:\n",
    "                table[kx][ky] += 1\n",
    "    \n",
    "    # Probabilites\n",
    "    for kx in table.keys():\n",
    "        s = float(sum(table[kx].values()))\n",
    "        for ky in table[kx].keys():\n",
    "            table[kx][ky] /= s\n",
    "    \n",
    "    return table"
   ]
  },
  {
   "cell_type": "code",
   "execution_count": 88,
   "metadata": {},
   "outputs": [],
   "source": [
    "model = generate_table(corpus)\n",
    "\n",
    "def sample_next(context, model, k = 2):\n",
    "    context = (\" \").join(context[-k : ])\n",
    "    if model.get(context) is None:\n",
    "        return ' '\n",
    "    poss_char = list(model[context].keys())\n",
    "    poss_prob = list(model[context].values())\n",
    "    return np.random.choice(a=poss_char, p=poss_prob)\n",
    "def predict(context,model,k=2):\n",
    "    return sample_next(context.lower().split(\" \"),model)"
   ]
  },
  {
   "cell_type": "code",
   "execution_count": 105,
   "metadata": {},
   "outputs": [
    {
     "name": "stdout",
     "output_type": "stream",
     "text": [
      "uniform\n"
     ]
    }
   ],
   "source": [
    "new_word = predict(\"United States of\",model)\n",
    "print(new_word)"
   ]
  },
  {
   "cell_type": "code",
   "execution_count": 72,
   "metadata": {},
   "outputs": [
    {
     "data": {
      "text/plain": [
       "1135"
      ]
     },
     "execution_count": 72,
     "metadata": {},
     "output_type": "execute_result"
    }
   ],
   "source": [
    "len(corpus)"
   ]
  }
 ],
 "metadata": {
  "kernelspec": {
   "display_name": "Python 3",
   "language": "python",
   "name": "python3"
  },
  "language_info": {
   "codemirror_mode": {
    "name": "ipython",
    "version": 3
   },
   "file_extension": ".py",
   "mimetype": "text/x-python",
   "name": "python",
   "nbconvert_exporter": "python",
   "pygments_lexer": "ipython3",
   "version": "3.7.3"
  }
 },
 "nbformat": 4,
 "nbformat_minor": 2
}
